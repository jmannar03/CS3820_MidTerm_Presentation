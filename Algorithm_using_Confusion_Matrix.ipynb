{
  "nbformat": 4,
  "nbformat_minor": 0,
  "metadata": {
    "colab": {
      "provenance": []
    },
    "kernelspec": {
      "name": "python3",
      "display_name": "Python 3"
    },
    "language_info": {
      "name": "python"
    }
  },
  "cells": [
    {
      "cell_type": "code",
      "execution_count": null,
      "metadata": {
        "id": "cem_nF8OEn0t"
      },
      "outputs": [],
      "source": [
        "import pandas as pd\n",
        "import numpy as np\n",
        "from sklearn.model_selection import train_test_split\n",
        "from sklearn.ensemble import RandomForestClassifier\n",
        "from sklearn.metrics import accuracy_score, precision_score, recall_score, f1_score\n",
        "from sklearn.metrics import confusion_matrix\n",
        "import seaborn as sns\n",
        "import matplotlib.pyplot as plt\n",
        "import yfinance as yf"
      ]
    },
    {
      "cell_type": "code",
      "source": [
        "def calculate_rsi(data, period=14):\n",
        "    # Step 1: Calculate the daily price changes\n",
        "    delta = data['Close'].diff()\n",
        "\n",
        "    # Step 2: Separate gains and losses\n",
        "    gain = (delta.where(delta > 0, 0))\n",
        "    loss = (-delta.where(delta < 0, 0))\n",
        "\n",
        "    # Step 3: Calculate average gain and loss (initial 14 periods)\n",
        "    avg_gain = gain.rolling(window=period, min_periods=1).mean()\n",
        "    avg_loss = loss.rolling(window=period, min_periods=1).mean()\n",
        "\n",
        "    # Step 4: Calculate Relative Strength (RS)\n",
        "    rs = avg_gain / avg_loss\n",
        "\n",
        "    # Step 5: Calculate the RSI\n",
        "    rsi = 100 - (100 / (1 + rs))\n",
        "\n",
        "    return rsi"
      ],
      "metadata": {
        "id": "kgF-VCj8xsvb"
      },
      "execution_count": null,
      "outputs": []
    },
    {
      "cell_type": "code",
      "source": [
        "# Download data\n",
        "ticker = yf.Ticker('SPY')\n",
        "start_date = '2015-01-01'\n",
        "end_date = '2024-01-01'\n",
        "data = ticker.history(start=start_date, end=end_date, period='1d')\n",
        "\n",
        "# Create target first and drop NaN values\n",
        "data['Target'] = data['Close'].shift(-1)\n",
        "\n",
        "# Clean data\n",
        "try:\n",
        "  data.drop(['Dividends', 'Stock Splits', 'Capital Gains'], inplace=True, axis=1)\n",
        "except KeyError:\n",
        "  print('Columns already dropped')\n",
        "\n",
        "# Up: 1, Down: 0\n",
        "data['Up_or_down'] = np.where(data['Target'] > data['Close'], 1, 0)\n",
        "\n",
        "# calcualting features\n",
        "data['EMA_50'] = data['Close'].ewm(span=50, adjust=False).mean()\n",
        "data['SMA_50'] = data['Close'].rolling(window=50).mean()\n",
        "data['RSI'] = calculate_rsi(data, period=14)\n",
        "\n",
        "# dropping missing values\n",
        "data.dropna(inplace=True)\n",
        "\n",
        "print(data.head())\n",
        "print(data.tail())"
      ],
      "metadata": {
        "id": "XyLW2EqyMEuk",
        "colab": {
          "base_uri": "https://localhost:8080/"
        },
        "outputId": "2bbe34ad-5a3e-4541-8b9b-9968aa6b6cef"
      },
      "execution_count": null,
      "outputs": [
        {
          "output_type": "stream",
          "name": "stdout",
          "text": [
            "                                 Open        High         Low       Close  \\\n",
            "Date                                                                        \n",
            "2015-03-16 00:00:00-04:00  174.252791  175.921891  173.536251  175.829163   \n",
            "2015-03-17 00:00:00-04:00  175.078925  175.694298  174.480402  175.306534   \n",
            "2015-03-18 00:00:00-04:00  174.826025  178.096800  174.176926  177.413986   \n",
            "2015-03-19 00:00:00-04:00  176.992529  177.422445  176.208549  176.604752   \n",
            "2015-03-20 00:00:00-04:00  177.570855  178.680089  177.384571  178.163574   \n",
            "\n",
            "                              Volume      Target  Up_or_down      EMA_50  \\\n",
            "Date                                                                       \n",
            "2015-03-16 00:00:00-04:00  136099200  175.306534           0  174.544795   \n",
            "2015-03-17 00:00:00-04:00   94510400  177.413986           1  174.574667   \n",
            "2015-03-18 00:00:00-04:00  228808500  176.604752           0  174.686013   \n",
            "2015-03-19 00:00:00-04:00  117917300  178.163574           1  174.761258   \n",
            "2015-03-20 00:00:00-04:00  177715100  177.816437           0  174.894682   \n",
            "\n",
            "                               SMA_50        RSI  \n",
            "Date                                              \n",
            "2015-03-16 00:00:00-04:00  173.654438  41.395834  \n",
            "2015-03-17 00:00:00-04:00  173.697094  40.447711  \n",
            "2015-03-18 00:00:00-04:00  173.844447  47.856390  \n",
            "2015-03-19 00:00:00-04:00  174.007650  47.327258  \n",
            "2015-03-20 00:00:00-04:00  174.160048  48.558138  \n",
            "                                 Open        High         Low       Close  \\\n",
            "Date                                                                        \n",
            "2023-12-21 00:00:00-05:00  466.926922  468.561532  464.460193  468.284149   \n",
            "2023-12-22 00:00:00-05:00  469.433280  470.939100  467.293485  469.225250   \n",
            "2023-12-26 00:00:00-05:00  469.641316  472.127848  469.562047  471.206543   \n",
            "2023-12-27 00:00:00-05:00  470.998521  472.207125  470.453671  472.058533   \n",
            "2023-12-28 00:00:00-05:00  472.425074  473.088798  471.810871  472.236847   \n",
            "\n",
            "                             Volume      Target  Up_or_down      EMA_50  \\\n",
            "Date                                                                      \n",
            "2023-12-21 00:00:00-05:00  86667500  469.225250           1  445.991357   \n",
            "2023-12-22 00:00:00-05:00  67126600  471.206543           1  446.902490   \n",
            "2023-12-26 00:00:00-05:00  55387000  472.058533           1  447.855590   \n",
            "2023-12-27 00:00:00-05:00  68000300  472.236847           1  448.804725   \n",
            "2023-12-28 00:00:00-05:00  77158100  470.869751           0  449.723632   \n",
            "\n",
            "                               SMA_50        RSI  \n",
            "Date                                              \n",
            "2023-12-21 00:00:00-05:00  439.356121  69.911204  \n",
            "2023-12-22 00:00:00-05:00  440.183145  75.168327  \n",
            "2023-12-26 00:00:00-05:00  441.092419  76.604675  \n",
            "2023-12-27 00:00:00-05:00  441.929144  80.796003  \n",
            "2023-12-28 00:00:00-05:00  442.769830  78.999460  \n"
          ]
        }
      ]
    },
    {
      "cell_type": "code",
      "source": [
        "# features\n",
        "features = ['Open', 'High', 'Low', 'Close', 'Volume', 'EMA_50', 'SMA_50', 'RSI']\n",
        "X = data[features]\n",
        "y = data['Up_or_down']\n",
        "\n",
        "#splitting data into train and test splits\n",
        "X_train, X_test, y_train, y_test = train_test_split(X, y, test_size=0.2, random_state=42)\n",
        "\n",
        "# selecitng model\n",
        "model = RandomForestClassifier(n_estimators=200, max_depth=20,\n",
        "                                     min_samples_split=100, random_state=42)\n",
        "\n",
        "# training model\n",
        "model.fit(X_train, y_train)\n",
        "\n",
        "# predicting values\n",
        "predicted = model.predict(X_test)"
      ],
      "metadata": {
        "id": "sgpnnAoBlsed"
      },
      "execution_count": null,
      "outputs": []
    },
    {
      "cell_type": "code",
      "source": [
        "outcome = pd.DataFrame({'Actual': y_test, 'Predicted': predicted})\n",
        "print(outcome)"
      ],
      "metadata": {
        "colab": {
          "base_uri": "https://localhost:8080/"
        },
        "id": "xOAazif3kxig",
        "outputId": "f26857cb-60b8-47a1-96a3-effc5f23fee2"
      },
      "execution_count": null,
      "outputs": [
        {
          "output_type": "stream",
          "name": "stdout",
          "text": [
            "                           Actual  Predicted\n",
            "Date                                        \n",
            "2021-01-08 00:00:00-05:00       0          1\n",
            "2020-10-29 00:00:00-04:00       0          1\n",
            "2017-07-05 00:00:00-04:00       0          1\n",
            "2021-03-24 00:00:00-04:00       1          1\n",
            "2020-02-04 00:00:00-05:00       1          1\n",
            "...                           ...        ...\n",
            "2022-12-30 00:00:00-05:00       0          0\n",
            "2019-06-21 00:00:00-04:00       0          0\n",
            "2016-06-03 00:00:00-04:00       1          0\n",
            "2020-06-16 00:00:00-04:00       0          1\n",
            "2017-09-12 00:00:00-04:00       1          1\n",
            "\n",
            "[443 rows x 2 columns]\n"
          ]
        }
      ]
    },
    {
      "cell_type": "code",
      "source": [
        "print('Accuracy:', accuracy_score(y_test, predicted))\n",
        "print('Precision:', precision_score(y_test, predicted))\n",
        "print('Recall:', recall_score(y_test, predicted))\n",
        "print('F1 score:', f1_score(y_test, predicted))"
      ],
      "metadata": {
        "colab": {
          "base_uri": "https://localhost:8080/"
        },
        "id": "wIEpdJ__nmz0",
        "outputId": "dbdd472e-d39e-421e-aaf6-57e1c1fa7f65"
      },
      "execution_count": null,
      "outputs": [
        {
          "output_type": "stream",
          "name": "stdout",
          "text": [
            "Accuracy: 0.5485327313769752\n",
            "Precision: 0.5718954248366013\n",
            "Recall: 0.7172131147540983\n",
            "F1 score: 0.6363636363636364\n"
          ]
        }
      ]
    },
    {
      "cell_type": "code",
      "source": [
        "# Generate confusion matrix\n",
        "cm = confusion_matrix(y_test, predicted)\n",
        "class_names = ['Negative', 'Positive']\n",
        "\n",
        "# Plot confusion matrix\n",
        "plt.figure(figsize=(6, 6))\n",
        "sns.heatmap(cm, annot=True, fmt='d', cmap='Blues', xticklabels=class_names, yticklabels=class_names)\n",
        "plt.title('Confusion Matrix')\n",
        "plt.xlabel('Predicted Label')\n",
        "plt.ylabel('True Label')\n",
        "plt.show()"
      ],
      "metadata": {
        "colab": {
          "base_uri": "https://localhost:8080/",
          "height": 564
        },
        "id": "4G4vjD1U60bQ",
        "outputId": "b0144585-23cb-4f00-8b4f-2c2cc7fd207c"
      },
      "execution_count": null,
      "outputs": [
        {
          "output_type": "display_data",
          "data": {
            "text/plain": [
              "<Figure size 600x600 with 2 Axes>"
            ],
            "image/png": "[encoded data removed]"
          },
          "metadata": {}
        }
      ]
    },
    {
      "cell_type": "code",
      "source": [
        "print(cm)"
      ],
      "metadata": {
        "id": "3-L-NQiO7xPa",
        "outputId": "bf5af430-26e8-47b4-d279-b1a356d679aa",
        "colab": {
          "base_uri": "https://localhost:8080/"
        }
      },
      "execution_count": null,
      "outputs": [
        {
          "output_type": "stream",
          "name": "stdout",
          "text": [
            "[[ 68 131]\n",
            " [ 69 175]]\n"
          ]
        }
      ]
    }
  ]
}